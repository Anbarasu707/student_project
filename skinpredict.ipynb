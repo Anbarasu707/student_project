{
  "nbformat": 4,
  "nbformat_minor": 0,
  "metadata": {
    "colab": {
      "name": "skinpredict.ipynb",
      "provenance": [],
      "collapsed_sections": [],
      "include_colab_link": true
    },
    "kernelspec": {
      "name": "python3",
      "display_name": "Python 3"
    }
  },
  "cells": [
    {
      "cell_type": "markdown",
      "metadata": {
        "id": "view-in-github",
        "colab_type": "text"
      },
      "source": [
        "<a href=\"https://colab.research.google.com/github/Anbarasu707/student_project/blob/master/skinpredict.ipynb\" target=\"_parent\"><img src=\"https://colab.research.google.com/assets/colab-badge.svg\" alt=\"Open In Colab\"/></a>"
      ]
    },
    {
      "cell_type": "code",
      "metadata": {
        "id": "oX7xHtwpSBm9",
        "colab_type": "code",
        "outputId": "ed88fbdf-83ca-40b5-a683-3aff93c67728",
        "colab": {
          "base_uri": "https://localhost:8080/",
          "height": 34
        }
      },
      "source": [
        "from tensorflow import keras\n",
        "import tensorflow as tf\n",
        "import numpy as np\n",
        "\n",
        "tf.logging.set_verbosity( tf.logging.ERROR )\n",
        "\n",
        "print( tf.VERSION )\n"
      ],
      "execution_count": 0,
      "outputs": [
        {
          "output_type": "stream",
          "text": [
            "1.14.0\n"
          ],
          "name": "stdout"
        }
      ]
    },
    {
      "cell_type": "code",
      "metadata": {
        "id": "kPn6HhCahgg0",
        "colab_type": "code",
        "colab": {}
      },
      "source": [
        "import requests, zipfile, io\n",
        "\n",
        "r = requests.get( 'https://github.com/shubham0204/Dataset_Archives/blob/master/mel_detect_processed.zip?raw=true' ) \n",
        "z = zipfile.ZipFile(io.BytesIO(r.content))\n",
        "z.extractall()\n"
      ],
      "execution_count": 0,
      "outputs": []
    },
    {
      "cell_type": "code",
      "metadata": {
        "id": "zohqKLkzhmuv",
        "colab_type": "code",
        "outputId": "c2082726-b109-4400-9085-d617a4232c0c",
        "colab": {
          "base_uri": "https://localhost:8080/",
          "height": 118
        }
      },
      "source": [
        "DIMEN = 32\n",
        "\n",
        "X1 = np.load( 'processed_data/x1.npy')\n",
        "X2 = np.load( 'processed_data/x2.npy')\n",
        "Y = np.load( 'processed_data/y.npy')\n",
        "\n",
        "X1 = X1.reshape( ( X1.shape[0]  , DIMEN**2 * 3  ) ).astype( np.float32 )\n",
        "X2 = X2.reshape( ( X2.shape[0]  , DIMEN**2 * 3  ) ).astype( np.float32 )\n",
        "\n",
        "train_X1 = X1[ : 4500 ] \n",
        "train_X2 = X2[ : 4500 ] \n",
        "train_Y = Y[ : 4500 ] \n",
        "\n",
        "test_X1 = X1[ 4500 : ]\n",
        "test_X2 = X2[ 4500 : ] \n",
        "test_Y = Y[ 4500 : ]\n",
        " \n",
        "print(  train_X1.shape )\n",
        "print(  train_X2.shape )\n",
        "print(  train_Y.shape )\n",
        "\n",
        "print(test_X1.shape )\n",
        "print(test_X1.shape )\n",
        "print(test_Y.shape) \n"
      ],
      "execution_count": 0,
      "outputs": [
        {
          "output_type": "stream",
          "text": [
            "(4500, 3072)\n",
            "(4500, 3072)\n",
            "(4500, 1)\n",
            "(541, 3072)\n",
            "(541, 3072)\n",
            "(541, 1)\n"
          ],
          "name": "stdout"
        }
      ]
    },
    {
      "cell_type": "code",
      "metadata": {
        "id": "Qfrl9RhHhuNx",
        "colab_type": "code",
        "outputId": "adc4a2cb-3e6d-4758-9c68-9c4ccf55bfbf",
        "colab": {
          "base_uri": "https://localhost:8080/",
          "height": 353
        }
      },
      "source": [
        "import tensorflow.keras.backend as K\n",
        "\n",
        "input_shape = ( (DIMEN**2) * 3 , )\n",
        "convolution_shape = ( DIMEN , DIMEN , 3 )\n",
        "\n",
        "kernel_size_1 = ( 8 , 8 )\n",
        "kernel_size_2 = ( 6 , 6 )\n",
        "kernel_size_3 = ( 4 , 4 )\n",
        "\n",
        "pool_size_1 = ( 6 , 6 )\n",
        "pool_size_2 = ( 4 , 4 )\n",
        "\n",
        "strides = 1\n",
        "\n",
        "seq_conv_model = [\n",
        "\n",
        "\ttf.keras.layers.Reshape( input_shape=input_shape , target_shape=convolution_shape),\n",
        "\t\n",
        "\ttf.keras.layers.Conv2D( 32, kernel_size=kernel_size_1 , strides=strides ,activation='relu' ),\n",
        "\ttf.keras.layers.MaxPooling2D(pool_size=pool_size_1, strides=strides ),\n",
        "\t\n",
        "\ttf.keras.layers.Conv2D( 64, kernel_size=kernel_size_2 , strides=strides ,activation='relu'),\n",
        "\ttf.keras.layers.MaxPooling2D(pool_size=pool_size_2 , strides=strides),\n",
        "    \n",
        "    tf.keras.layers.Conv2D( 128, kernel_size=kernel_size_3 , strides=strides ,activation='relu'),\n",
        "    \n",
        "\ttf.keras.layers.Flatten(),\n",
        "\t\n",
        "\ttf.keras.layers.Dense( 3076 , activation=tf.keras.activations.sigmoid )\n",
        "\n",
        "]\n",
        "\n",
        "seq_model = tf.keras.Sequential( seq_conv_model )\n",
        "\n",
        "input_x1 = tf.keras.layers.Input( shape=input_shape )\n",
        "input_x2 = tf.keras.layers.Input( shape=input_shape )\n",
        "\n",
        "output_x1 = seq_model( input_x1 )\n",
        "output_x2 = seq_model( input_x2 )\n",
        "\n",
        "distance_euclid = tf.keras.layers.Lambda( lambda tensors : K.abs( tensors[0] - tensors[1] ))( [output_x1 , output_x2] )\n",
        "outputs = tf.keras.layers.Dense( 1 , activation=tf.keras.activations.sigmoid) ( distance_euclid )\n",
        "model = tf.keras.models.Model( [ input_x1 , input_x2 ] , outputs )\n",
        "\n",
        "model.compile( loss=tf.keras.losses.binary_crossentropy , optimizer=tf.keras.optimizers.Adam(lr=0.0001) , metrics=['accuracy'])\n",
        "\n",
        "model.summary()"
      ],
      "execution_count": 0,
      "outputs": [
        {
          "output_type": "stream",
          "text": [
            "Model: \"model\"\n",
            "__________________________________________________________________________________________________\n",
            "Layer (type)                    Output Shape         Param #     Connected to                     \n",
            "==================================================================================================\n",
            "input_1 (InputLayer)            [(None, 3072)]       0                                            \n",
            "__________________________________________________________________________________________________\n",
            "input_2 (InputLayer)            [(None, 3072)]       0                                            \n",
            "__________________________________________________________________________________________________\n",
            "sequential (Sequential)         (None, 3076)         32106212    input_1[0][0]                    \n",
            "                                                                 input_2[0][0]                    \n",
            "__________________________________________________________________________________________________\n",
            "lambda (Lambda)                 (None, 3076)         0           sequential[1][0]                 \n",
            "                                                                 sequential[2][0]                 \n",
            "__________________________________________________________________________________________________\n",
            "dense_1 (Dense)                 (None, 1)            3077        lambda[0][0]                     \n",
            "==================================================================================================\n",
            "Total params: 32,109,289\n",
            "Trainable params: 32,109,289\n",
            "Non-trainable params: 0\n",
            "__________________________________________________________________________________________________\n"
          ],
          "name": "stdout"
        }
      ]
    },
    {
      "cell_type": "code",
      "metadata": {
        "id": "NoHFk4Crkdjb",
        "colab_type": "code",
        "outputId": "4d65a667-a46c-42d5-bf5c-b706a50bf445",
        "colab": {
          "base_uri": "https://localhost:8080/",
          "height": 202
        }
      },
      "source": [
        "model.fit( [ train_X1 , train_X2 ] , train_Y , epochs=5 , batch_size=100 ) "
      ],
      "execution_count": 0,
      "outputs": [
        {
          "output_type": "stream",
          "text": [
            "Epoch 1/5\n",
            "4500/4500 [==============================] - 101s 22ms/sample - loss: 0.6879 - acc: 0.5253\n",
            "Epoch 2/5\n",
            "4500/4500 [==============================] - 99s 22ms/sample - loss: 0.6297 - acc: 0.6449\n",
            "Epoch 3/5\n",
            "4500/4500 [==============================] - 100s 22ms/sample - loss: 0.4979 - acc: 0.7724\n",
            "Epoch 4/5\n",
            "4500/4500 [==============================] - 100s 22ms/sample - loss: 0.3346 - acc: 0.8791\n",
            "Epoch 5/5\n",
            "4500/4500 [==============================] - 99s 22ms/sample - loss: 0.1894 - acc: 0.9527\n"
          ],
          "name": "stdout"
        },
        {
          "output_type": "execute_result",
          "data": {
            "text/plain": [
              "<tensorflow.python.keras.callbacks.History at 0x7fea2b12eda0>"
            ]
          },
          "metadata": {
            "tags": []
          },
          "execution_count": 6
        }
      ]
    },
    {
      "cell_type": "code",
      "metadata": {
        "id": "Sz1p_-ZAmvzC",
        "colab_type": "code",
        "outputId": "9b1b0a38-47f7-451e-fbed-c9ec1e839343",
        "colab": {
          "base_uri": "https://localhost:8080/",
          "height": 50
        }
      },
      "source": [
        "metrics = model.evaluate( [ test_X1 , test_X2 ] , test_Y ) \n",
        "print( 'Loss of {} and Accuracy is {} %'.format( metrics[0] , metrics[1] * 100 ) ) \n"
      ],
      "execution_count": 0,
      "outputs": [
        {
          "output_type": "stream",
          "text": [
            "541/541 [==============================] - 3s 6ms/sample - loss: 0.2475 - acc: 0.9094\n",
            "Loss of 0.24747702264521346 and Accuracy is 90.94269871711731 %\n"
          ],
          "name": "stdout"
        }
      ]
    },
    {
      "cell_type": "code",
      "metadata": {
        "id": "KmB_Pd4Yf8Dn",
        "colab_type": "code",
        "outputId": "89d1f7ee-0cda-46ad-eee3-56ca5cf92149",
        "colab": {
          "base_uri": "https://localhost:8080/",
          "height": 87
        }
      },
      "source": [
        "model.save( 'model.h5' ) \n",
        "converter = tf.lite.TFLiteConverter.from_keras_model_file( 'model.h5' ) \n",
        "converter.post_training_quantize = True\n",
        "tflite_model = converter.convert()\n",
        "size = open( 'recog_model.tflite' , 'wb' ).write( tflite_model ) \n",
        "print( 'Model size > {} Megabytes'.format( size / 1024**2))\n"
      ],
      "execution_count": 0,
      "outputs": [
        {
          "output_type": "stream",
          "text": [
            "/usr/local/lib/python3.6/dist-packages/tensorflow/lite/python/lite.py:769: UserWarning: Property post_training_quantize is deprecated, please use optimizations=[Optimize.DEFAULT] instead.\n",
            "  \" instead.\" % name)\n"
          ],
          "name": "stderr"
        },
        {
          "output_type": "stream",
          "text": [
            "Model size > 30.635719299316406 Megabytes\n"
          ],
          "name": "stdout"
        }
      ]
    },
    {
      "cell_type": "code",
      "metadata": {
        "id": "MCKc8Y3GYPzd",
        "colab_type": "code",
        "colab": {}
      },
      "source": [
        ""
      ],
      "execution_count": 0,
      "outputs": []
    }
  ]
}